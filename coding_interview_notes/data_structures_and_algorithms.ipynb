{
 "cells": [
  {
   "cell_type": "markdown",
   "metadata": {},
   "source": [
    "# 排序"
   ]
  },
  {
   "cell_type": "markdown",
   "metadata": {},
   "source": [
    "## 选择排序\n",
    "- 从第一个数开始，找到最小的数和它交换位置，然后再找到第二小的，和第二个数小换位置\n",
    "- 时间复杂度 $O(N^2)$ 空间复杂度 $O(1)$"
   ]
  },
  {
   "cell_type": "code",
   "execution_count": 3,
   "metadata": {},
   "outputs": [],
   "source": [
    "def selectionSort(nums):\n",
    "    if len(nums) < 2:\n",
    "        return nums\n",
    "    for i in range(len(nums)):\n",
    "        min_ind = i\n",
    "        for j in range(i+1, len(nums)):\n",
    "            if nums[j]<nums[min_ind]:\n",
    "                min_ind = j\n",
    "        nums[i], nums[min_ind] = nums[min_ind], nums[i]\n",
    "    return nums"
   ]
  },
  {
   "cell_type": "code",
   "execution_count": 6,
   "metadata": {},
   "outputs": [
    {
     "name": "stdout",
     "output_type": "stream",
     "text": [
      "排序后的数组：\n",
      "11\n",
      "12\n",
      "22\n",
      "25\n",
      "64\n"
     ]
    }
   ],
   "source": [
    "A = [64, 25, 12, 22, 11] \n",
    "selectionSort(A)\n",
    "print (\"排序后的数组：\") \n",
    "for i in range(len(A)): \n",
    "    print(\"%d\" %A[i])"
   ]
  },
  {
   "cell_type": "markdown",
   "metadata": {},
   "source": [
    "## 冒泡排序\n",
    "- 重复的从头到尾遍历数组，两两比较相邻的元素，交换排序错误的元素\n",
    "- 时间复杂度 $O(N^2)$ 空间复杂度 $O(1)$"
   ]
  },
  {
   "cell_type": "code",
   "execution_count": 5,
   "metadata": {},
   "outputs": [],
   "source": [
    "def bubbleSort(nums):\n",
    "    if len(nums) < 2:\n",
    "        return nums\n",
    "    \n",
    "    for i in range(len(nums)):\n",
    "        for j in range(0, len(nums)-1-i):\n",
    "            if nums[j] > nums[j+1]:\n",
    "                nums[j],nums[j+1] = nums[j+1], nums[j]\n",
    "                \n",
    "    return nums"
   ]
  },
  {
   "cell_type": "code",
   "execution_count": 7,
   "metadata": {},
   "outputs": [
    {
     "name": "stdout",
     "output_type": "stream",
     "text": [
      "排序后的数组:\n",
      "11\n",
      "12\n",
      "22\n",
      "25\n",
      "34\n",
      "64\n",
      "90\n"
     ]
    }
   ],
   "source": [
    "arr = [64, 34, 25, 12, 22, 11, 90]\n",
    "bubbleSort(arr)\n",
    "print (\"排序后的数组:\")\n",
    "for i in range(len(arr)):\n",
    "    print (\"%d\" %arr[i])"
   ]
  },
  {
   "cell_type": "markdown",
   "metadata": {},
   "source": [
    "## 插入排序\n",
    "- 从最左端的两个数开始，将最后一个数移动向左一一比较，插入到正确的位置，再进行最左端三个数的比较\n",
    "- 时间复杂度 $O(N^2)$ (最好情况：原本数组已经有序，不需要进行移动操作 $O(N)$) \n",
    "- 空间复杂度 $O(1)$"
   ]
  },
  {
   "cell_type": "code",
   "execution_count": 2,
   "metadata": {},
   "outputs": [],
   "source": [
    "def insertionSort(nums):\n",
    "    for i in range(1, len(nums)):       # 从最左端的两个数为一组开始遍历\n",
    "        key = nums[i]                     \n",
    "        j = i-1\n",
    "        while j >=0 and key < nums[j]: # 如果当前key比左边的这个数小\n",
    "            nums[j+1] = nums[j]        # 就把这个数向右移一位\n",
    "            j -= 1                     \n",
    "        nums[j+1] = key                # 直到找到正确的位置将key插入\n",
    "    return nums"
   ]
  },
  {
   "cell_type": "code",
   "execution_count": 3,
   "metadata": {},
   "outputs": [
    {
     "name": "stdout",
     "output_type": "stream",
     "text": [
      "排序后的数组:\n",
      "5\n",
      "6\n",
      "11\n",
      "12\n",
      "13\n"
     ]
    }
   ],
   "source": [
    "arr = [12, 11, 13, 5, 6] \n",
    "insertionSort(arr) \n",
    "print (\"排序后的数组:\") \n",
    "for i in range(len(arr)): \n",
    "    print (\"%d\" %arr[i])"
   ]
  },
  {
   "cell_type": "markdown",
   "metadata": {},
   "source": [
    "## 归并排序\n",
    "- 递归地将数组两部分排好序，再合并到一起\n",
    "    - `merge()`将左右两部分分别从左左边开始，哪边的数小就把那个数放进新数组，并向右移动指针\n",
    "    - `process()`递归的将数列一份为二，将两部分排序\n",
    "- 时间复杂度 $O(NlogN)$ 空间复杂度 $O(N)$"
   ]
  },
  {
   "cell_type": "code",
   "execution_count": 82,
   "metadata": {},
   "outputs": [],
   "source": [
    "def process(nums, l, r):\n",
    "    if l == r:\n",
    "        return\n",
    "    mid = l+((r-l)//2)\n",
    "    process(nums, l, mid)\n",
    "    process(nums, mid+1, r)\n",
    "    merge(nums, l, mid, r)\n",
    "    \n",
    "def merge(nums, l, mid, r):\n",
    "    temp = []\n",
    "    p1 = l\n",
    "    p2 = mid+1\n",
    "    while p1<=mid and p2<=r:\n",
    "        if nums[p1] <= nums[p2]:\n",
    "            temp.append(nums[p1])\n",
    "            p1+=1\n",
    "        else:\n",
    "            temp.append(nums[p2])\n",
    "            p2+=1\n",
    "    while p1<=mid:\n",
    "        temp.append(nums[p1])\n",
    "        p1+=1\n",
    "    while p2<=r:\n",
    "        temp.append(nums[p2])\n",
    "        p2+=1\n",
    "        \n",
    "    for i in range(len(temp)):\n",
    "        nums[l+i] = temp[i]\n",
    "\n",
    "def mergeSort(nums):\n",
    "    if len(nums)<2:\n",
    "        return nums\n",
    "    process(nums, 0, len(nums)-1)\n",
    "    return nums"
   ]
  },
  {
   "cell_type": "code",
   "execution_count": 83,
   "metadata": {},
   "outputs": [
    {
     "name": "stdout",
     "output_type": "stream",
     "text": [
      "[11, 12, 22, 25, 34, 64, 90]\n"
     ]
    }
   ],
   "source": [
    "arr = [64, 34, 25, 12, 22, 11, 90]\n",
    "print(mergeSort(arr)) "
   ]
  },
  {
   "cell_type": "markdown",
   "metadata": {},
   "source": [
    "# 查找"
   ]
  },
  {
   "cell_type": "markdown",
   "metadata": {},
   "source": [
    "## 二分查找\n",
    "- 在一个有序数组中查找一个数字是否存在 leetcode704\n",
    "- 在一个有序数组中找到大于等于某个数的最左边的坐标 leetcode35\n",
    "- 查找某元素第一次出现的位置、最后一次出现的位置 leetcode34\n",
    "- 无序列表，寻找局部最小\n",
    "- 时间复杂度$O(log_2N)$ \n",
    "> 求中点\n",
    ">\n",
    ">`mid = (l+r)//2` 当数组长度很大时l+r可能会溢出\n",
    ">\n",
    ">`mid = l+(r-l)//2`\n"
   ]
  },
  {
   "cell_type": "code",
   "execution_count": 13,
   "metadata": {},
   "outputs": [],
   "source": [
    "# 递归\n",
    "def binarySearch(nums, l, r, x):\n",
    "    if r >= l:\n",
    "        mid = (l+r)//2 # 整除，舍掉小数位\n",
    "        if nums[mid] == x:\n",
    "            return True\n",
    "        elif nums[mid]>x:\n",
    "            return binarySearch(nums, l, mid-1, x)\n",
    "        else:\n",
    "            return binarySearch(nums, mid+1, r, x)\n",
    "    else:\n",
    "        return False"
   ]
  },
  {
   "cell_type": "code",
   "execution_count": 14,
   "metadata": {},
   "outputs": [
    {
     "name": "stdout",
     "output_type": "stream",
     "text": [
      "元素不在数组中\n"
     ]
    }
   ],
   "source": [
    "arr = [ 2, 3, 4, 10, 40 ] \n",
    "x = 199\n",
    "result = binarySearch(arr, 0, len(arr)-1, x) \n",
    "if result: \n",
    "    print (\"元素在数组中\")\n",
    "else: \n",
    "    print (\"元素不在数组中\")"
   ]
  },
  {
   "cell_type": "code",
   "execution_count": 18,
   "metadata": {},
   "outputs": [],
   "source": [
    "# 非递归\n",
    "def binarySearch(nums, x):\n",
    "    l = 0\n",
    "    r = len(nums)-1\n",
    "    while l <= r:\n",
    "        mid = (l+r)//2\n",
    "        if nums[mid] == x:\n",
    "            return True\n",
    "        elif nums[mid]>x:\n",
    "            r = mid-1\n",
    "        else:\n",
    "            l = mid+1\n",
    "    return False"
   ]
  },
  {
   "cell_type": "code",
   "execution_count": 20,
   "metadata": {},
   "outputs": [
    {
     "name": "stdout",
     "output_type": "stream",
     "text": [
      "元素在数组中\n"
     ]
    }
   ],
   "source": [
    "arr = [ 2, 3, 4, 10, 40 ] \n",
    "x = 2\n",
    "result = binarySearch(arr, x) \n",
    "if result: \n",
    "    print (\"元素在数组中\")\n",
    "else: \n",
    "    print (\"元素不在数组中\")"
   ]
  },
  {
   "cell_type": "code",
   "execution_count": 60,
   "metadata": {},
   "outputs": [],
   "source": [
    "# 在一个有序数组中找到大于等于某个数的最左边的坐标\n",
    "def binarySearch2(nums, target):\n",
    "    l = 0\n",
    "    r = len(nums)-1\n",
    "    result = len(nums)\n",
    "    while l<=r:\n",
    "        mid = (r+l)//2\n",
    "        if nums[mid] >= target:\n",
    "            result = mid\n",
    "            r = mid -1\n",
    "        else:\n",
    "            l = mid + 1\n",
    "    return result"
   ]
  },
  {
   "cell_type": "code",
   "execution_count": 61,
   "metadata": {},
   "outputs": [
    {
     "name": "stdout",
     "output_type": "stream",
     "text": [
      "3\n"
     ]
    }
   ],
   "source": [
    "arr = [ 2, 3, 4, 10, 40 ] \n",
    "x = 5\n",
    "print(binarySearch2(arr, x)) "
   ]
  },
  {
   "cell_type": "code",
   "execution_count": 55,
   "metadata": {},
   "outputs": [],
   "source": [
    "# 在一升序数组中找到第一个x的坐标，没有返回-1\n",
    "def searchLeft(nums, target):\n",
    "    l = 0\n",
    "    r = len(nums)-1\n",
    "    left_ind = len(nums)\n",
    "    while l <= r:\n",
    "        mid = (l+r)//2\n",
    "        if nums[mid] > target:\n",
    "            r = mid -1 \n",
    "        elif nums[mid] < target:\n",
    "            l = mid + 1\n",
    "        elif nums[mid] == target:\n",
    "            if mid < left_ind:\n",
    "                left_ind = mid\n",
    "            r = mid -1\n",
    "    if left_ind<0 or left_ind>=len(nums):\n",
    "        return -1\n",
    "    return left_ind"
   ]
  },
  {
   "cell_type": "code",
   "execution_count": 57,
   "metadata": {},
   "outputs": [
    {
     "name": "stdout",
     "output_type": "stream",
     "text": [
      "3\n"
     ]
    }
   ],
   "source": [
    "arr = [5,7,7,8,8,10]\n",
    "x = 8\n",
    "print(searchLeft(arr, x)) "
   ]
  },
  {
   "cell_type": "code",
   "execution_count": 66,
   "metadata": {},
   "outputs": [],
   "source": [
    "# 无序列表，查找局部最小值的位置\n",
    "def locMin(nums):\n",
    "    if nums[0] < nums[1]:\n",
    "        return 0\n",
    "    if nums[-1] < nums[-2]:\n",
    "        return len(nums)-1\n",
    "    l = 0\n",
    "    r = len(nums)-1\n",
    "    while l <= r:\n",
    "        mid = (l+r)//2\n",
    "        if nums[mid-1]>nums[mid] and nums[mid+1]>nums[mid]:\n",
    "            return mid\n",
    "        elif nums[mid-1]<nums[mid]:\n",
    "            r = mid-1\n",
    "        else:\n",
    "            l = mid + 1\n",
    "    return -1"
   ]
  },
  {
   "cell_type": "code",
   "execution_count": 67,
   "metadata": {},
   "outputs": [
    {
     "name": "stdout",
     "output_type": "stream",
     "text": [
      "1\n"
     ]
    }
   ],
   "source": [
    "arr = [9,8,9,8,10]\n",
    "print(locMin(arr)) "
   ]
  },
  {
   "cell_type": "markdown",
   "metadata": {},
   "source": [
    "# 位运算符\n",
    "位运算符是把数字看作二进制来进行运算的\n",
    "\n",
    "- `&`与 ：当两位都为1时，结果为1，否则为0\n",
    "- `^`异或：当两对应的二进制位**相同时结果为0**，**相异时结果为1** \n",
    "    - 自己和自己异或结果为0，任何数和0异或结果不变\n",
    "    - 满足结合律和交换率"
   ]
  },
  {
   "cell_type": "code",
   "execution_count": 16,
   "metadata": {},
   "outputs": [
    {
     "data": {
      "text/plain": [
       "3"
      ]
     },
     "execution_count": 16,
     "metadata": {},
     "output_type": "execute_result"
    }
   ],
   "source": [
    "3 ^ 0"
   ]
  },
  {
   "cell_type": "markdown",
   "metadata": {},
   "source": [
    "**给定一个含有n个元素的整型数组array，其中只有一个元素出现奇数次，找出这个元素。**\n",
    "- 0从头开始和数组中每个数进行异或，偶数次的数字都会变成0，最后留下的数字就是出现奇数次的"
   ]
  },
  {
   "cell_type": "code",
   "execution_count": 21,
   "metadata": {},
   "outputs": [],
   "source": [
    "def odd_times_num(nums):\n",
    "    result = 0\n",
    "    for num in nums:\n",
    "        result = result ^ num\n",
    "    return result"
   ]
  },
  {
   "cell_type": "code",
   "execution_count": 22,
   "metadata": {},
   "outputs": [
    {
     "name": "stdout",
     "output_type": "stream",
     "text": [
      "2\n"
     ]
    }
   ],
   "source": [
    "nums = [1,2,3,5,1,3,5]\n",
    "print(odd_times_num(nums))"
   ]
  },
  {
   "cell_type": "markdown",
   "metadata": {},
   "source": [
    "# 递归"
   ]
  },
  {
   "cell_type": "code",
   "execution_count": 73,
   "metadata": {},
   "outputs": [],
   "source": [
    "# 递归方法寻找数组中的最大值\n",
    "def getMax(nums, l, r):\n",
    "    if l == r:\n",
    "        return nums[l]\n",
    "    mid = l + ((l+r)//2)\n",
    "    left_max = getMax(nums, l, mid)\n",
    "    right_max = getMax(nums, mid+1, r)\n",
    "    if left_max > right_max:\n",
    "        return left_max\n",
    "    else:\n",
    "        return right_max"
   ]
  },
  {
   "cell_type": "code",
   "execution_count": 80,
   "metadata": {},
   "outputs": [
    {
     "ename": "RecursionError",
     "evalue": "maximum recursion depth exceeded in comparison",
     "output_type": "error",
     "traceback": [
      "\u001b[0;31m---------------------------------------------------------------------------\u001b[0m",
      "\u001b[0;31mRecursionError\u001b[0m                            Traceback (most recent call last)",
      "\u001b[0;32m<ipython-input-80-d48cdee58866>\u001b[0m in \u001b[0;36m<module>\u001b[0;34m\u001b[0m\n\u001b[1;32m      1\u001b[0m \u001b[0marr\u001b[0m \u001b[0;34m=\u001b[0m \u001b[0;34m[\u001b[0m\u001b[0;36m3\u001b[0m\u001b[0;34m,\u001b[0m\u001b[0;36m6\u001b[0m\u001b[0;34m,\u001b[0m\u001b[0;36m8\u001b[0m\u001b[0;34m,\u001b[0m\u001b[0;36m9\u001b[0m\u001b[0;34m]\u001b[0m\u001b[0;34m\u001b[0m\u001b[0;34m\u001b[0m\u001b[0m\n\u001b[0;32m----> 2\u001b[0;31m \u001b[0mprint\u001b[0m\u001b[0;34m(\u001b[0m\u001b[0mgetMax\u001b[0m\u001b[0;34m(\u001b[0m\u001b[0marr\u001b[0m\u001b[0;34m,\u001b[0m \u001b[0;36m0\u001b[0m\u001b[0;34m,\u001b[0m \u001b[0mlen\u001b[0m\u001b[0;34m(\u001b[0m\u001b[0marr\u001b[0m\u001b[0;34m)\u001b[0m\u001b[0;34m-\u001b[0m\u001b[0;36m1\u001b[0m\u001b[0;34m)\u001b[0m\u001b[0;34m)\u001b[0m\u001b[0;34m\u001b[0m\u001b[0;34m\u001b[0m\u001b[0m\n\u001b[0m",
      "\u001b[0;32m<ipython-input-73-12818a0f6055>\u001b[0m in \u001b[0;36mgetMax\u001b[0;34m(nums, l, r)\u001b[0m\n\u001b[1;32m      5\u001b[0m     \u001b[0mmid\u001b[0m \u001b[0;34m=\u001b[0m \u001b[0ml\u001b[0m \u001b[0;34m+\u001b[0m \u001b[0;34m(\u001b[0m\u001b[0;34m(\u001b[0m\u001b[0ml\u001b[0m\u001b[0;34m+\u001b[0m\u001b[0mr\u001b[0m\u001b[0;34m)\u001b[0m\u001b[0;34m//\u001b[0m\u001b[0;36m2\u001b[0m\u001b[0;34m)\u001b[0m\u001b[0;34m\u001b[0m\u001b[0;34m\u001b[0m\u001b[0m\n\u001b[1;32m      6\u001b[0m     \u001b[0mleft_max\u001b[0m \u001b[0;34m=\u001b[0m \u001b[0mgetMax\u001b[0m\u001b[0;34m(\u001b[0m\u001b[0mnums\u001b[0m\u001b[0;34m,\u001b[0m \u001b[0ml\u001b[0m\u001b[0;34m,\u001b[0m \u001b[0mmid\u001b[0m\u001b[0;34m)\u001b[0m\u001b[0;34m\u001b[0m\u001b[0;34m\u001b[0m\u001b[0m\n\u001b[0;32m----> 7\u001b[0;31m     \u001b[0mright_max\u001b[0m \u001b[0;34m=\u001b[0m \u001b[0mgetMax\u001b[0m\u001b[0;34m(\u001b[0m\u001b[0mnums\u001b[0m\u001b[0;34m,\u001b[0m \u001b[0mmid\u001b[0m\u001b[0;34m+\u001b[0m\u001b[0;36m1\u001b[0m\u001b[0;34m,\u001b[0m \u001b[0mr\u001b[0m\u001b[0;34m)\u001b[0m\u001b[0;34m\u001b[0m\u001b[0;34m\u001b[0m\u001b[0m\n\u001b[0m\u001b[1;32m      8\u001b[0m     \u001b[0;32mif\u001b[0m \u001b[0mleft_max\u001b[0m \u001b[0;34m>\u001b[0m \u001b[0mright_max\u001b[0m\u001b[0;34m:\u001b[0m\u001b[0;34m\u001b[0m\u001b[0;34m\u001b[0m\u001b[0m\n\u001b[1;32m      9\u001b[0m         \u001b[0;32mreturn\u001b[0m \u001b[0mleft_max\u001b[0m\u001b[0;34m\u001b[0m\u001b[0;34m\u001b[0m\u001b[0m\n",
      "\u001b[0;32m<ipython-input-73-12818a0f6055>\u001b[0m in \u001b[0;36mgetMax\u001b[0;34m(nums, l, r)\u001b[0m\n\u001b[1;32m      4\u001b[0m         \u001b[0;32mreturn\u001b[0m \u001b[0mnums\u001b[0m\u001b[0;34m[\u001b[0m\u001b[0ml\u001b[0m\u001b[0;34m]\u001b[0m\u001b[0;34m\u001b[0m\u001b[0;34m\u001b[0m\u001b[0m\n\u001b[1;32m      5\u001b[0m     \u001b[0mmid\u001b[0m \u001b[0;34m=\u001b[0m \u001b[0ml\u001b[0m \u001b[0;34m+\u001b[0m \u001b[0;34m(\u001b[0m\u001b[0;34m(\u001b[0m\u001b[0ml\u001b[0m\u001b[0;34m+\u001b[0m\u001b[0mr\u001b[0m\u001b[0;34m)\u001b[0m\u001b[0;34m//\u001b[0m\u001b[0;36m2\u001b[0m\u001b[0;34m)\u001b[0m\u001b[0;34m\u001b[0m\u001b[0;34m\u001b[0m\u001b[0m\n\u001b[0;32m----> 6\u001b[0;31m     \u001b[0mleft_max\u001b[0m \u001b[0;34m=\u001b[0m \u001b[0mgetMax\u001b[0m\u001b[0;34m(\u001b[0m\u001b[0mnums\u001b[0m\u001b[0;34m,\u001b[0m \u001b[0ml\u001b[0m\u001b[0;34m,\u001b[0m \u001b[0mmid\u001b[0m\u001b[0;34m)\u001b[0m\u001b[0;34m\u001b[0m\u001b[0;34m\u001b[0m\u001b[0m\n\u001b[0m\u001b[1;32m      7\u001b[0m     \u001b[0mright_max\u001b[0m \u001b[0;34m=\u001b[0m \u001b[0mgetMax\u001b[0m\u001b[0;34m(\u001b[0m\u001b[0mnums\u001b[0m\u001b[0;34m,\u001b[0m \u001b[0mmid\u001b[0m\u001b[0;34m+\u001b[0m\u001b[0;36m1\u001b[0m\u001b[0;34m,\u001b[0m \u001b[0mr\u001b[0m\u001b[0;34m)\u001b[0m\u001b[0;34m\u001b[0m\u001b[0;34m\u001b[0m\u001b[0m\n\u001b[1;32m      8\u001b[0m     \u001b[0;32mif\u001b[0m \u001b[0mleft_max\u001b[0m \u001b[0;34m>\u001b[0m \u001b[0mright_max\u001b[0m\u001b[0;34m:\u001b[0m\u001b[0;34m\u001b[0m\u001b[0;34m\u001b[0m\u001b[0m\n",
      "... last 1 frames repeated, from the frame below ...\n",
      "\u001b[0;32m<ipython-input-73-12818a0f6055>\u001b[0m in \u001b[0;36mgetMax\u001b[0;34m(nums, l, r)\u001b[0m\n\u001b[1;32m      4\u001b[0m         \u001b[0;32mreturn\u001b[0m \u001b[0mnums\u001b[0m\u001b[0;34m[\u001b[0m\u001b[0ml\u001b[0m\u001b[0;34m]\u001b[0m\u001b[0;34m\u001b[0m\u001b[0;34m\u001b[0m\u001b[0m\n\u001b[1;32m      5\u001b[0m     \u001b[0mmid\u001b[0m \u001b[0;34m=\u001b[0m \u001b[0ml\u001b[0m \u001b[0;34m+\u001b[0m \u001b[0;34m(\u001b[0m\u001b[0;34m(\u001b[0m\u001b[0ml\u001b[0m\u001b[0;34m+\u001b[0m\u001b[0mr\u001b[0m\u001b[0;34m)\u001b[0m\u001b[0;34m//\u001b[0m\u001b[0;36m2\u001b[0m\u001b[0;34m)\u001b[0m\u001b[0;34m\u001b[0m\u001b[0;34m\u001b[0m\u001b[0m\n\u001b[0;32m----> 6\u001b[0;31m     \u001b[0mleft_max\u001b[0m \u001b[0;34m=\u001b[0m \u001b[0mgetMax\u001b[0m\u001b[0;34m(\u001b[0m\u001b[0mnums\u001b[0m\u001b[0;34m,\u001b[0m \u001b[0ml\u001b[0m\u001b[0;34m,\u001b[0m \u001b[0mmid\u001b[0m\u001b[0;34m)\u001b[0m\u001b[0;34m\u001b[0m\u001b[0;34m\u001b[0m\u001b[0m\n\u001b[0m\u001b[1;32m      7\u001b[0m     \u001b[0mright_max\u001b[0m \u001b[0;34m=\u001b[0m \u001b[0mgetMax\u001b[0m\u001b[0;34m(\u001b[0m\u001b[0mnums\u001b[0m\u001b[0;34m,\u001b[0m \u001b[0mmid\u001b[0m\u001b[0;34m+\u001b[0m\u001b[0;36m1\u001b[0m\u001b[0;34m,\u001b[0m \u001b[0mr\u001b[0m\u001b[0;34m)\u001b[0m\u001b[0;34m\u001b[0m\u001b[0;34m\u001b[0m\u001b[0m\n\u001b[1;32m      8\u001b[0m     \u001b[0;32mif\u001b[0m \u001b[0mleft_max\u001b[0m \u001b[0;34m>\u001b[0m \u001b[0mright_max\u001b[0m\u001b[0;34m:\u001b[0m\u001b[0;34m\u001b[0m\u001b[0;34m\u001b[0m\u001b[0m\n",
      "\u001b[0;31mRecursionError\u001b[0m: maximum recursion depth exceeded in comparison"
     ]
    }
   ],
   "source": [
    "arr = [3,6,8,9]\n",
    "print(getMax(arr, 0, len(arr)-1))"
   ]
  },
  {
   "cell_type": "code",
   "execution_count": null,
   "metadata": {},
   "outputs": [],
   "source": []
  }
 ],
 "metadata": {
  "kernelspec": {
   "display_name": "Python 3",
   "language": "python",
   "name": "python3"
  },
  "language_info": {
   "codemirror_mode": {
    "name": "ipython",
    "version": 3
   },
   "file_extension": ".py",
   "mimetype": "text/x-python",
   "name": "python",
   "nbconvert_exporter": "python",
   "pygments_lexer": "ipython3",
   "version": "3.8.3"
  },
  "toc": {
   "base_numbering": 1,
   "nav_menu": {},
   "number_sections": true,
   "sideBar": true,
   "skip_h1_title": false,
   "title_cell": "Table of Contents",
   "title_sidebar": "Contents",
   "toc_cell": false,
   "toc_position": {
    "height": "calc(100% - 180px)",
    "left": "10px",
    "top": "150px",
    "width": "165px"
   },
   "toc_section_display": true,
   "toc_window_display": true
  }
 },
 "nbformat": 4,
 "nbformat_minor": 4
}
